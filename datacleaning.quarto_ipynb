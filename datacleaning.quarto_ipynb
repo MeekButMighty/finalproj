{
  "cells": [
    {
      "cell_type": "markdown",
      "metadata": {},
      "source": [
        "---\n",
        "title: \"Data Cleaning\"\n",
        "format: html\n",
        "---\n",
        "\n",
        "\n",
        "\n",
        "All data used in this project came from a simulated dataset regarding ACLR recovery. The simulated data was based on patient data compiled by School of Data Science and the Department of Kinesiology at the University of Virginia. To explore our guiding question, we filtered and cleaned the dataset as below:\n",
        "\n",
        "\n",
        "First, we imported our dependencies and loaded in the original dataset\n"
      ],
      "id": "e30b8a59"
    },
    {
      "cell_type": "code",
      "metadata": {},
      "source": [
        "#import dependencies\n",
        "import pandas as pd"
      ],
      "id": "e37b4a8d",
      "execution_count": null,
      "outputs": []
    },
    {
      "cell_type": "code",
      "metadata": {},
      "source": [
        "#load in the data\n",
        "aclr_orig = pd.read_csv('aclr_data.csv')"
      ],
      "id": "32698087",
      "execution_count": null,
      "outputs": []
    },
    {
      "cell_type": "markdown",
      "metadata": {},
      "source": [
        "Second, we dropped all columns that weren't relevant to our guiding question. We included strength measurements as well as demographics that might impact recovery\n"
      ],
      "id": "257ed456"
    },
    {
      "cell_type": "code",
      "metadata": {},
      "source": [
        "col_list = ['record_id', 'sex_dashboard', 'age', 'age_group', 'tss', 'tss_dashboard', 'ikdc', 'acl_rsi']\n",
        "lsi_list = [col for col in aclr_orig.columns if 'lsi' in col and '_l' not in col]\n",
        "final_list = col_list + lsi_list\n",
        "aclr_used = aclr_orig[final_list]"
      ],
      "id": "ad9c1319",
      "execution_count": null,
      "outputs": []
    },
    {
      "cell_type": "markdown",
      "metadata": {},
      "source": [
        "Since the data was longitudinal, we could fill in some missing data using 'record_id', which identified unique patients. Values for sex and age group were filled in this way:\n"
      ],
      "id": "ec587b7c"
    },
    {
      "cell_type": "code",
      "metadata": {},
      "source": [
        "aclr = aclr_used.copy()\n",
        "# Update to use .ffill() and .bfill() directly\n",
        "aclr['sex_dashboard'] = aclr.groupby('record_id')['sex_dashboard'].transform(lambda x: x.ffill().bfill())\n",
        "aclr['age_group'] = aclr.groupby('record_id')['age_group'].transform(lambda x: x.ffill().bfill())"
      ],
      "id": "a81797ec",
      "execution_count": null,
      "outputs": []
    },
    {
      "cell_type": "markdown",
      "metadata": {},
      "source": [
        "Age group was converted to a categorical variable\n"
      ],
      "id": "9524c0bd"
    },
    {
      "cell_type": "code",
      "metadata": {},
      "source": [
        "aclr['age_group'] = aclr['age_group'].astype('category')"
      ],
      "id": "5295a347",
      "execution_count": null,
      "outputs": []
    },
    {
      "cell_type": "markdown",
      "metadata": {},
      "source": [
        "Due to the nature of the data, i.e. patients having multiple visits and various strength tests being used in different combinations, we chose not to drop rows with NA values. This gives u the most data possible to work with when drawing conclusions.\n"
      ],
      "id": "6d7aad89"
    },
    {
      "cell_type": "code",
      "metadata": {},
      "source": [
        "aclr.to_csv('cleaned_aclr_data.csv', index=False)"
      ],
      "id": "30af8e7c",
      "execution_count": null,
      "outputs": []
    }
  ],
  "metadata": {
    "kernelspec": {
      "display_name": "Python 3",
      "language": "python",
      "name": "python3"
    }
  },
  "nbformat": 4,
  "nbformat_minor": 5
}