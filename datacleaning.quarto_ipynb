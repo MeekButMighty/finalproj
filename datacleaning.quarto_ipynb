{
  "cells": [
    {
      "cell_type": "markdown",
      "metadata": {},
      "source": [
        "---\n",
        "title: \"Untitled\"\n",
        "format: html\n",
        "---\n",
        "\n",
        "\n",
        "\n",
        "All data used in this project came from a simulated dataset regarding ACLR recovery. The simulated data was based on patient data compiled by School of Data Science and the Department of Kinesiology at the University of Virginia. To explore our guiding question, we filtered and cleaned the dataset as below:\n",
        "\n",
        "\n",
        "First, we imported our dependencies and loaded in the original dataset\n"
      ],
      "id": "2902f0c2"
    },
    {
      "cell_type": "code",
      "metadata": {},
      "source": [
        "#import dependencies\n",
        "import pandas as pd"
      ],
      "id": "756f24e1",
      "execution_count": null,
      "outputs": []
    },
    {
      "cell_type": "code",
      "metadata": {},
      "source": [
        "#load in the data\n",
        "aclr_orig = pd.read_csv('aclr_data.csv')"
      ],
      "id": "ecac9635",
      "execution_count": null,
      "outputs": []
    },
    {
      "cell_type": "markdown",
      "metadata": {},
      "source": [
        "Second, we dropped all columns that weren't relevant to our guiding question. We included strength measurements as well as demographics that might impact recovery\n"
      ],
      "id": "263430c8"
    },
    {
      "cell_type": "code",
      "metadata": {},
      "source": [
        "col_list = ['record_id', 'sex_dashboard', 'age', 'age_group', 'tss', 'tss_dashboard', 'ikdc', 'acl_rsi']\n",
        "lsi_list = [col for col in aclr_orig.columns if 'lsi' in col and '_l' not in col]\n",
        "final_list = col_list + lsi_list\n",
        "aclr_used = aclr_orig[final_list]"
      ],
      "id": "baa75956",
      "execution_count": null,
      "outputs": []
    },
    {
      "cell_type": "markdown",
      "metadata": {},
      "source": [
        "Since the data was longitudinal, we could fill in some missing data using 'record_id', which identified unique patients. Values for sex and age group were filled in this way:\n"
      ],
      "id": "85dad9f9"
    },
    {
      "cell_type": "code",
      "metadata": {},
      "source": [
        "aclr = aclr_used.copy()\n",
        "# Update to use .ffill() and .bfill() directly\n",
        "aclr['sex_dashboard'] = aclr.groupby('record_id')['sex_dashboard'].transform(lambda x: x.ffill().bfill())\n",
        "aclr['age_group'] = aclr.groupby('record_id')['age_group'].transform(lambda x: x.ffill().bfill())"
      ],
      "id": "5ac9753f",
      "execution_count": null,
      "outputs": []
    },
    {
      "cell_type": "markdown",
      "metadata": {},
      "source": [
        "Age group was converted to a categorical variable\n"
      ],
      "id": "4605d611"
    },
    {
      "cell_type": "code",
      "metadata": {},
      "source": [
        "aclr['age_group'] = aclr['age_group'].astype('category')"
      ],
      "id": "fb873f37",
      "execution_count": null,
      "outputs": []
    },
    {
      "cell_type": "markdown",
      "metadata": {},
      "source": [
        "Due to the nature of the data, i.e. patients having multiple visits and various strength tests being used in different combinations, we chose not to drop rows with NA values. This gives u the most data possible to work with when drawing conclusions.\n"
      ],
      "id": "6e2b7343"
    },
    {
      "cell_type": "code",
      "metadata": {},
      "source": [
        "aclr.to_csv('cleaned_aclr_data.csv', index=False)"
      ],
      "id": "fda668c1",
      "execution_count": null,
      "outputs": []
    }
  ],
  "metadata": {
    "kernelspec": {
      "display_name": "Python 3",
      "language": "python",
      "name": "python3"
    }
  },
  "nbformat": 4,
  "nbformat_minor": 5
}